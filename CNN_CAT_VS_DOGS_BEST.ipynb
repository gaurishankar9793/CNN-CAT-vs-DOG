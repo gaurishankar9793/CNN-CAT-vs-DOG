{
  "nbformat": 4,
  "nbformat_minor": 0,
  "metadata": {
    "colab": {
      "name": "CNN CAT VS DOGS",
      "version": "0.3.2",
      "provenance": [],
      "collapsed_sections": [],
      "include_colab_link": true
    },
    "kernelspec": {
      "name": "python3",
      "display_name": "Python 3"
    },
    "accelerator": "GPU"
  },
  "cells": [
    {
      "cell_type": "markdown",
      "metadata": {
        "id": "view-in-github",
        "colab_type": "text"
      },
      "source": [
        "<a href=\"https://colab.research.google.com/github/gaurishankar9793/CNN-CAT-vs-DOG/blob/master/CNN_CAT_VS_DOGS_BEST.ipynb\" target=\"_parent\"><img src=\"https://colab.research.google.com/assets/colab-badge.svg\" alt=\"Open In Colab\"/></a>"
      ]
    },
    {
      "cell_type": "markdown",
      "metadata": {
        "id": "iuu2BRebExIS",
        "colab_type": "text"
      },
      "source": [
        "**IMPORTING LIBRARIES**"
      ]
    },
    {
      "cell_type": "code",
      "metadata": {
        "id": "QZUccBcnZc0E",
        "colab_type": "code",
        "colab": {}
      },
      "source": [
        "import sys\n",
        "from matplotlib import pyplot\n",
        "from keras.utils import to_categorical\n",
        "from keras.models import Sequential\n",
        "from keras.layers import Conv2D\n",
        "from keras.layers import MaxPooling2D\n",
        "from keras.layers import Dense\n",
        "from keras.layers import Flatten\n",
        "from keras.optimizers import SGD\n",
        "from keras.preprocessing.image import ImageDataGenerator"
      ],
      "execution_count": 0,
      "outputs": []
    },
    {
      "cell_type": "code",
      "metadata": {
        "id": "Hej1FaD_u0g7",
        "colab_type": "code",
        "colab": {}
      },
      "source": [
        "import numpy as np\n",
        "import pandas as pd \n",
        "from keras.preprocessing.image import ImageDataGenerator, load_img\n",
        "from keras.utils import to_categorical\n",
        "from sklearn.model_selection import train_test_split\n",
        "import matplotlib.pyplot as plt\n",
        "import random\n",
        "import os"
      ],
      "execution_count": 0,
      "outputs": []
    },
    {
      "cell_type": "markdown",
      "metadata": {
        "id": "Q44Q8Xn1E2A3",
        "colab_type": "text"
      },
      "source": [
        "**LINKING GOOGLE DRIVE TO IMPORT DATA SETS**"
      ]
    },
    {
      "cell_type": "code",
      "metadata": {
        "id": "hVKJQOZBZms7",
        "colab_type": "code",
        "outputId": "a8256586-5cee-41a7-cdd8-589ecf254ea3",
        "colab": {
          "base_uri": "https://localhost:8080/",
          "height": 130
        }
      },
      "source": [
        "path = \"\"\n",
        "\n",
        "from google.colab import drive, files\n",
        "drive.mount('/content/drive/')"
      ],
      "execution_count": 9,
      "outputs": [
        {
          "output_type": "stream",
          "text": [
            "Go to this URL in a browser: https://accounts.google.com/o/oauth2/auth?client_id=947318989803-6bn6qk8qdgf4n4g3pfee6491hc0brc4i.apps.googleusercontent.com&redirect_uri=urn%3Aietf%3Awg%3Aoauth%3A2.0%3Aoob&scope=email%20https%3A%2F%2Fwww.googleapis.com%2Fauth%2Fdocs.test%20https%3A%2F%2Fwww.googleapis.com%2Fauth%2Fdrive%20https%3A%2F%2Fwww.googleapis.com%2Fauth%2Fdrive.photos.readonly%20https%3A%2F%2Fwww.googleapis.com%2Fauth%2Fpeopleapi.readonly&response_type=code\n",
            "\n",
            "Enter your authorization code:\n",
            "··········\n",
            "Mounted at /content/drive/\n"
          ],
          "name": "stdout"
        }
      ]
    },
    {
      "cell_type": "code",
      "metadata": {
        "id": "PowqpRHYZnIQ",
        "colab_type": "code",
        "colab": {}
      },
      "source": [
        "path = \"/content/drive/My Drive/CNN/\"\n",
        "training_data_dir = path + \"train/training_set\"\n",
        "test_data_dir = path + \"test/test_set\""
      ],
      "execution_count": 0,
      "outputs": []
    },
    {
      "cell_type": "markdown",
      "metadata": {
        "id": "TxVG-maKE7D8",
        "colab_type": "text"
      },
      "source": [
        "**HYPERPARAMETERS**"
      ]
    },
    {
      "cell_type": "code",
      "metadata": {
        "id": "-5ZkrqL9ZnDT",
        "colab_type": "code",
        "colab": {}
      },
      "source": [
        "FAST_RUN = False\n",
        "IMAGE_WIDTH=128\n",
        "IMAGE_HEIGHT=128\n",
        "IMAGE_SIZE=(IMAGE_WIDTH, IMAGE_HEIGHT)\n",
        "IMAGE_CHANNELS=3"
      ],
      "execution_count": 0,
      "outputs": []
    },
    {
      "cell_type": "markdown",
      "metadata": {
        "id": "VuQCrgxKEt7U",
        "colab_type": "text"
      },
      "source": [
        "Input Layer: It represent input image data. It will reshape image into single diminsion array. Example your image is 64x64 = 4096, it will convert to (4096,1) array.\n",
        "\n",
        "Conv Layer: This layer will extract features from image.\n",
        "\n",
        "Pooling Layer: This layer reduce the spatial volume of input image after convolution.\n",
        "Fully Connected Layer: It connect the network from a layer to another layer\n",
        "\n",
        "Output Layer: It is the predicted values layer\n",
        "\n",
        "\n",
        "\n"
      ]
    },
    {
      "cell_type": "markdown",
      "metadata": {
        "id": "pwpk4bFPFL_h",
        "colab_type": "text"
      },
      "source": [
        "**MODEL**"
      ]
    },
    {
      "cell_type": "code",
      "metadata": {
        "id": "FuS0NStlZm-W",
        "colab_type": "code",
        "colab": {
          "base_uri": "https://localhost:8080/",
          "height": 1000
        },
        "outputId": "c5b10f08-7e78-402d-bb39-209fc8f5003c"
      },
      "source": [
        "from keras.models import Sequential\n",
        "from keras.layers import Conv2D, MaxPooling2D, Dropout, Flatten, Dense, Activation, BatchNormalization\n",
        "\n",
        "model = Sequential()\n",
        "\n",
        "model.add(Conv2D(32, (3, 3), activation='relu', input_shape=(IMAGE_WIDTH, IMAGE_HEIGHT, IMAGE_CHANNELS)))\n",
        "model.add(BatchNormalization())\n",
        "model.add(MaxPooling2D(pool_size=(2, 2)))\n",
        "model.add(Dropout(0.25))\n",
        "\n",
        "model.add(Conv2D(64, (3, 3), activation='relu'))\n",
        "model.add(BatchNormalization())\n",
        "model.add(MaxPooling2D(pool_size=(2, 2)))\n",
        "model.add(Dropout(0.25))\n",
        "\n",
        "model.add(Conv2D(128, (3, 3), activation='relu'))\n",
        "model.add(BatchNormalization())\n",
        "model.add(MaxPooling2D(pool_size=(2, 2)))\n",
        "model.add(Dropout(0.25))\n",
        "\n",
        "model.add(Flatten())\n",
        "model.add(Dense(512, activation='relu'))\n",
        "model.add(BatchNormalization())\n",
        "model.add(Dropout(0.5))\n",
        "model.add(Dense(2, activation='softmax')) # 2 because we have cat and dog classes\n",
        "\n",
        "model.compile(loss='categorical_crossentropy', optimizer='rmsprop', metrics=['accuracy'])\n",
        "\n",
        "model.summary()"
      ],
      "execution_count": 13,
      "outputs": [
        {
          "output_type": "stream",
          "text": [
            "WARNING: Logging before flag parsing goes to stderr.\n",
            "W0805 07:47:08.474560 140491945658240 deprecation_wrapper.py:119] From /usr/local/lib/python3.6/dist-packages/keras/backend/tensorflow_backend.py:74: The name tf.get_default_graph is deprecated. Please use tf.compat.v1.get_default_graph instead.\n",
            "\n",
            "W0805 07:47:08.527320 140491945658240 deprecation_wrapper.py:119] From /usr/local/lib/python3.6/dist-packages/keras/backend/tensorflow_backend.py:517: The name tf.placeholder is deprecated. Please use tf.compat.v1.placeholder instead.\n",
            "\n",
            "W0805 07:47:08.534290 140491945658240 deprecation_wrapper.py:119] From /usr/local/lib/python3.6/dist-packages/keras/backend/tensorflow_backend.py:4138: The name tf.random_uniform is deprecated. Please use tf.random.uniform instead.\n",
            "\n",
            "W0805 07:47:08.578095 140491945658240 deprecation_wrapper.py:119] From /usr/local/lib/python3.6/dist-packages/keras/backend/tensorflow_backend.py:174: The name tf.get_default_session is deprecated. Please use tf.compat.v1.get_default_session instead.\n",
            "\n",
            "W0805 07:47:08.579190 140491945658240 deprecation_wrapper.py:119] From /usr/local/lib/python3.6/dist-packages/keras/backend/tensorflow_backend.py:181: The name tf.ConfigProto is deprecated. Please use tf.compat.v1.ConfigProto instead.\n",
            "\n",
            "W0805 07:47:11.521902 140491945658240 deprecation_wrapper.py:119] From /usr/local/lib/python3.6/dist-packages/keras/backend/tensorflow_backend.py:1834: The name tf.nn.fused_batch_norm is deprecated. Please use tf.compat.v1.nn.fused_batch_norm instead.\n",
            "\n",
            "W0805 07:47:11.592535 140491945658240 deprecation_wrapper.py:119] From /usr/local/lib/python3.6/dist-packages/keras/backend/tensorflow_backend.py:3976: The name tf.nn.max_pool is deprecated. Please use tf.nn.max_pool2d instead.\n",
            "\n",
            "W0805 07:47:11.599738 140491945658240 deprecation.py:506] From /usr/local/lib/python3.6/dist-packages/keras/backend/tensorflow_backend.py:3445: calling dropout (from tensorflow.python.ops.nn_ops) with keep_prob is deprecated and will be removed in a future version.\n",
            "Instructions for updating:\n",
            "Please use `rate` instead of `keep_prob`. Rate should be set to `rate = 1 - keep_prob`.\n",
            "W0805 07:47:11.904570 140491945658240 deprecation_wrapper.py:119] From /usr/local/lib/python3.6/dist-packages/keras/optimizers.py:790: The name tf.train.Optimizer is deprecated. Please use tf.compat.v1.train.Optimizer instead.\n",
            "\n"
          ],
          "name": "stderr"
        },
        {
          "output_type": "stream",
          "text": [
            "_________________________________________________________________\n",
            "Layer (type)                 Output Shape              Param #   \n",
            "=================================================================\n",
            "conv2d_1 (Conv2D)            (None, 126, 126, 32)      896       \n",
            "_________________________________________________________________\n",
            "batch_normalization_1 (Batch (None, 126, 126, 32)      128       \n",
            "_________________________________________________________________\n",
            "max_pooling2d_1 (MaxPooling2 (None, 63, 63, 32)        0         \n",
            "_________________________________________________________________\n",
            "dropout_1 (Dropout)          (None, 63, 63, 32)        0         \n",
            "_________________________________________________________________\n",
            "conv2d_2 (Conv2D)            (None, 61, 61, 64)        18496     \n",
            "_________________________________________________________________\n",
            "batch_normalization_2 (Batch (None, 61, 61, 64)        256       \n",
            "_________________________________________________________________\n",
            "max_pooling2d_2 (MaxPooling2 (None, 30, 30, 64)        0         \n",
            "_________________________________________________________________\n",
            "dropout_2 (Dropout)          (None, 30, 30, 64)        0         \n",
            "_________________________________________________________________\n",
            "conv2d_3 (Conv2D)            (None, 28, 28, 128)       73856     \n",
            "_________________________________________________________________\n",
            "batch_normalization_3 (Batch (None, 28, 28, 128)       512       \n",
            "_________________________________________________________________\n",
            "max_pooling2d_3 (MaxPooling2 (None, 14, 14, 128)       0         \n",
            "_________________________________________________________________\n",
            "dropout_3 (Dropout)          (None, 14, 14, 128)       0         \n",
            "_________________________________________________________________\n",
            "flatten_1 (Flatten)          (None, 25088)             0         \n",
            "_________________________________________________________________\n",
            "dense_1 (Dense)              (None, 512)               12845568  \n",
            "_________________________________________________________________\n",
            "batch_normalization_4 (Batch (None, 512)               2048      \n",
            "_________________________________________________________________\n",
            "dropout_4 (Dropout)          (None, 512)               0         \n",
            "_________________________________________________________________\n",
            "dense_2 (Dense)              (None, 2)                 1026      \n",
            "=================================================================\n",
            "Total params: 12,942,786\n",
            "Trainable params: 12,941,314\n",
            "Non-trainable params: 1,472\n",
            "_________________________________________________________________\n"
          ],
          "name": "stdout"
        }
      ]
    },
    {
      "cell_type": "markdown",
      "metadata": {
        "id": "bhR6pe9aFI9K",
        "colab_type": "text"
      },
      "source": [
        "**CALLBACKS**"
      ]
    },
    {
      "cell_type": "code",
      "metadata": {
        "id": "wKEY99pVZm34",
        "colab_type": "code",
        "colab": {}
      },
      "source": [
        "from keras.callbacks import EarlyStopping, ReduceLROnPlateau\n",
        "earlystop = EarlyStopping(patience=10)\n",
        "learning_rate_reduction = ReduceLROnPlateau(monitor='val_acc', \n",
        "                                            patience=2, \n",
        "                                            verbose=1, \n",
        "                                            factor=0.5, \n",
        "                                            min_lr=0.00001)\n",
        "callbacks = [earlystop, learning_rate_reduction]\n",
        "\n"
      ],
      "execution_count": 0,
      "outputs": []
    },
    {
      "cell_type": "markdown",
      "metadata": {
        "id": "eXfkFs__FhLu",
        "colab_type": "text"
      },
      "source": [
        "**DATA  PREP**"
      ]
    },
    {
      "cell_type": "code",
      "metadata": {
        "id": "W0_CQvqKtH0R",
        "colab_type": "code",
        "colab": {}
      },
      "source": [
        "train_datagen = ImageDataGenerator(\n",
        "    rotation_range=15,\n",
        "    rescale=1./255,\n",
        "    shear_range=0.1,\n",
        "    zoom_range=0.2,\n",
        "    horizontal_flip=True,\n",
        "    width_shift_range=0.1,\n",
        "    height_shift_range=0.1\n",
        ")\n"
      ],
      "execution_count": 0,
      "outputs": []
    },
    {
      "cell_type": "code",
      "metadata": {
        "id": "uCfonp9TwZ-N",
        "colab_type": "code",
        "colab": {}
      },
      "source": [
        "BATCH_SIZE = 15"
      ],
      "execution_count": 0,
      "outputs": []
    },
    {
      "cell_type": "code",
      "metadata": {
        "id": "ZdbbqL56tObI",
        "colab_type": "code",
        "colab": {
          "base_uri": "https://localhost:8080/",
          "height": 36
        },
        "outputId": "38d02fb6-6562-4cf6-8e44-d54a21031957"
      },
      "source": [
        "train_generator = train_datagen.flow_from_directory(training_data_dir,\n",
        "\tclass_mode='categorical', batch_size=BATCH_SIZE,target_size= IMAGE_SIZE)"
      ],
      "execution_count": 24,
      "outputs": [
        {
          "output_type": "stream",
          "text": [
            "Found 1589 images belonging to 2 classes.\n"
          ],
          "name": "stdout"
        }
      ]
    },
    {
      "cell_type": "markdown",
      "metadata": {
        "id": "q7JGaHy_FnMt",
        "colab_type": "text"
      },
      "source": [
        "**FIT MODEL**\n",
        "AH SHIT HERE WE GO AGAIN "
      ]
    },
    {
      "cell_type": "code",
      "metadata": {
        "id": "wXxpwdbDwvBO",
        "colab_type": "code",
        "colab": {
          "base_uri": "https://localhost:8080/",
          "height": 1000
        },
        "outputId": "edbcab7e-0274-41a6-ccd7-eb217a05c1dd"
      },
      "source": [
        "epochs=3 if FAST_RUN else 50\n",
        "history = model.fit_generator(\n",
        "    train_generator, \n",
        "    epochs=epochs,\n",
        "    steps_per_epoch=1589//BATCH_SIZE,\n",
        "    callbacks=callbacks\n",
        ")"
      ],
      "execution_count": 29,
      "outputs": [
        {
          "output_type": "stream",
          "text": [
            "W0805 07:53:03.787720 140491945658240 deprecation.py:323] From /usr/local/lib/python3.6/dist-packages/tensorflow/python/ops/math_grad.py:1250: add_dispatch_support.<locals>.wrapper (from tensorflow.python.ops.array_ops) is deprecated and will be removed in a future version.\n",
            "Instructions for updating:\n",
            "Use tf.where in 2.0, which has the same broadcast rule as np.where\n"
          ],
          "name": "stderr"
        },
        {
          "output_type": "stream",
          "text": [
            "Epoch 1/50\n",
            "105/105 [==============================] - 625s 6s/step - loss: 1.3205 - acc: 0.5632\n",
            "Epoch 2/50\n"
          ],
          "name": "stdout"
        },
        {
          "output_type": "stream",
          "text": [
            "/usr/local/lib/python3.6/dist-packages/keras/callbacks.py:569: RuntimeWarning: Early stopping conditioned on metric `val_loss` which is not available. Available metrics are: loss,acc\n",
            "  (self.monitor, ','.join(list(logs.keys()))), RuntimeWarning\n",
            "/usr/local/lib/python3.6/dist-packages/keras/callbacks.py:1109: RuntimeWarning: Reduce LR on plateau conditioned on metric `val_acc` which is not available. Available metrics are: loss,acc,lr\n",
            "  (self.monitor, ','.join(list(logs.keys()))), RuntimeWarning\n"
          ],
          "name": "stderr"
        },
        {
          "output_type": "stream",
          "text": [
            "105/105 [==============================] - 15s 146ms/step - loss: 0.9915 - acc: 0.5865\n",
            "Epoch 3/50\n",
            "105/105 [==============================] - 10s 93ms/step - loss: 0.8027 - acc: 0.5897\n",
            "Epoch 4/50\n",
            "105/105 [==============================] - 10s 92ms/step - loss: 0.7353 - acc: 0.6072\n",
            "Epoch 5/50\n",
            "105/105 [==============================] - 10s 92ms/step - loss: 0.6793 - acc: 0.6512\n",
            "Epoch 6/50\n",
            "105/105 [==============================] - 10s 93ms/step - loss: 0.6448 - acc: 0.6721\n",
            "Epoch 7/50\n",
            "105/105 [==============================] - 10s 93ms/step - loss: 0.6207 - acc: 0.6817\n",
            "Epoch 8/50\n",
            "105/105 [==============================] - 10s 93ms/step - loss: 0.5943 - acc: 0.6894\n",
            "Epoch 9/50\n",
            "105/105 [==============================] - 10s 93ms/step - loss: 0.5956 - acc: 0.6981\n",
            "Epoch 10/50\n",
            "105/105 [==============================] - 10s 92ms/step - loss: 0.5677 - acc: 0.7159\n",
            "Epoch 11/50\n",
            "105/105 [==============================] - 10s 92ms/step - loss: 0.5705 - acc: 0.7128\n",
            "Epoch 12/50\n",
            "105/105 [==============================] - 10s 92ms/step - loss: 0.5358 - acc: 0.7331\n",
            "Epoch 13/50\n",
            "105/105 [==============================] - 10s 91ms/step - loss: 0.5481 - acc: 0.7222\n",
            "Epoch 14/50\n",
            "105/105 [==============================] - 10s 90ms/step - loss: 0.5450 - acc: 0.7262\n",
            "Epoch 15/50\n",
            "105/105 [==============================] - 10s 90ms/step - loss: 0.5484 - acc: 0.7274\n",
            "Epoch 16/50\n",
            "105/105 [==============================] - 9s 90ms/step - loss: 0.5226 - acc: 0.7522\n",
            "Epoch 17/50\n",
            "105/105 [==============================] - 10s 91ms/step - loss: 0.5169 - acc: 0.7586\n",
            "Epoch 18/50\n",
            "105/105 [==============================] - 10s 91ms/step - loss: 0.4881 - acc: 0.7661\n",
            "Epoch 19/50\n",
            "105/105 [==============================] - 10s 93ms/step - loss: 0.4898 - acc: 0.7674\n",
            "Epoch 20/50\n",
            "105/105 [==============================] - 10s 95ms/step - loss: 0.5056 - acc: 0.7572\n",
            "Epoch 21/50\n",
            "105/105 [==============================] - 10s 92ms/step - loss: 0.4860 - acc: 0.7725\n",
            "Epoch 22/50\n",
            "105/105 [==============================] - 10s 92ms/step - loss: 0.4494 - acc: 0.7859\n",
            "Epoch 23/50\n",
            "105/105 [==============================] - 9s 90ms/step - loss: 0.4943 - acc: 0.7644\n",
            "Epoch 24/50\n",
            "105/105 [==============================] - 10s 91ms/step - loss: 0.4591 - acc: 0.7891\n",
            "Epoch 25/50\n",
            "105/105 [==============================] - 10s 91ms/step - loss: 0.4629 - acc: 0.7814\n",
            "Epoch 26/50\n",
            "105/105 [==============================] - 10s 91ms/step - loss: 0.4456 - acc: 0.7815\n",
            "Epoch 27/50\n",
            "105/105 [==============================] - 10s 91ms/step - loss: 0.4480 - acc: 0.8036\n",
            "Epoch 28/50\n",
            "105/105 [==============================] - 10s 92ms/step - loss: 0.4444 - acc: 0.7959\n",
            "Epoch 29/50\n",
            "105/105 [==============================] - 10s 91ms/step - loss: 0.4492 - acc: 0.7986\n",
            "Epoch 30/50\n",
            "105/105 [==============================] - 10s 91ms/step - loss: 0.4300 - acc: 0.8037\n",
            "Epoch 31/50\n",
            "105/105 [==============================] - 10s 91ms/step - loss: 0.4479 - acc: 0.7859\n",
            "Epoch 32/50\n",
            "105/105 [==============================] - 10s 91ms/step - loss: 0.4112 - acc: 0.8126\n",
            "Epoch 33/50\n",
            "105/105 [==============================] - 10s 91ms/step - loss: 0.4241 - acc: 0.8133\n",
            "Epoch 34/50\n",
            "105/105 [==============================] - 10s 92ms/step - loss: 0.4397 - acc: 0.8005\n",
            "Epoch 35/50\n",
            "105/105 [==============================] - 10s 91ms/step - loss: 0.3886 - acc: 0.8304\n",
            "Epoch 36/50\n",
            "105/105 [==============================] - 10s 92ms/step - loss: 0.4119 - acc: 0.8247\n",
            "Epoch 37/50\n",
            "105/105 [==============================] - 10s 91ms/step - loss: 0.3805 - acc: 0.8316\n",
            "Epoch 38/50\n",
            "105/105 [==============================] - 10s 91ms/step - loss: 0.4068 - acc: 0.8151\n",
            "Epoch 39/50\n",
            "105/105 [==============================] - 10s 91ms/step - loss: 0.4032 - acc: 0.8196\n",
            "Epoch 40/50\n",
            "105/105 [==============================] - 10s 92ms/step - loss: 0.3966 - acc: 0.8284\n",
            "Epoch 41/50\n",
            "105/105 [==============================] - 10s 91ms/step - loss: 0.3925 - acc: 0.8348\n",
            "Epoch 42/50\n",
            "105/105 [==============================] - 10s 91ms/step - loss: 0.3982 - acc: 0.8265\n",
            "Epoch 43/50\n",
            "105/105 [==============================] - 10s 91ms/step - loss: 0.3739 - acc: 0.8373\n",
            "Epoch 44/50\n",
            "105/105 [==============================] - 10s 92ms/step - loss: 0.3693 - acc: 0.8311\n",
            "Epoch 45/50\n",
            "105/105 [==============================] - 10s 91ms/step - loss: 0.3547 - acc: 0.8469\n",
            "Epoch 46/50\n",
            "105/105 [==============================] - 10s 90ms/step - loss: 0.3870 - acc: 0.8278\n",
            "Epoch 47/50\n",
            "105/105 [==============================] - 9s 89ms/step - loss: 0.3538 - acc: 0.8443\n",
            "Epoch 48/50\n",
            "105/105 [==============================] - 9s 90ms/step - loss: 0.3789 - acc: 0.8279\n",
            "Epoch 49/50\n",
            "105/105 [==============================] - 9s 90ms/step - loss: 0.3580 - acc: 0.8419\n",
            "Epoch 50/50\n",
            "105/105 [==============================] - 9s 90ms/step - loss: 0.3450 - acc: 0.8456\n"
          ],
          "name": "stdout"
        }
      ]
    },
    {
      "cell_type": "markdown",
      "metadata": {
        "id": "p2kVJ_3CFzCc",
        "colab_type": "text"
      },
      "source": [
        "TIME TAKEN 1102.7465 \n",
        "\n",
        "TRAINED ON GPU"
      ]
    },
    {
      "cell_type": "code",
      "metadata": {
        "id": "C95i5k_xwvUw",
        "colab_type": "code",
        "colab": {}
      },
      "source": [
        "model.save_weights(\"model.h5\")"
      ],
      "execution_count": 0,
      "outputs": []
    },
    {
      "cell_type": "code",
      "metadata": {
        "id": "2Q-iOO9GwvIx",
        "colab_type": "code",
        "colab": {
          "base_uri": "https://localhost:8080/",
          "height": 873
        },
        "outputId": "992ab3fa-c30f-4852-8c44-97e51e65a21d"
      },
      "source": [
        "fig, (ax1, ax2) = plt.subplots(2, 1, figsize=(12, 12))\n",
        "ax1.plot(history.history['loss'], color='b', label=\"Training loss\")\n",
        "ax1.set_xticks(np.arange(1, epochs, 1))\n",
        "ax1.set_yticks(np.arange(0, 1, 0.1))\n",
        "\n",
        "ax2.plot(history.history['acc'], color='b', label=\"Training accuracy\")\n",
        "ax2.set_xticks(np.arange(1, epochs, 1))\n",
        "\n",
        "legend = plt.legend(loc='best', shadow=True)\n",
        "plt.tight_layout()\n",
        "plt.show()"
      ],
      "execution_count": 31,
      "outputs": [
        {
          "output_type": "display_data",
          "data": {
            "image/png": "[encoded data removed]",
            "text/plain": [
              "<Figure size 864x864 with 2 Axes>"
            ]
          },
          "metadata": {
            "tags": []
          }
        }
      ]
    },
    {
      "cell_type": "markdown",
      "metadata": {
        "id": "VL-IjxZHGGyq",
        "colab_type": "text"
      },
      "source": [
        "PREDICTION TIME"
      ]
    },
    {
      "cell_type": "code",
      "metadata": {
        "id": "-Bwu98bY2so7",
        "colab_type": "code",
        "colab": {
          "base_uri": "https://localhost:8080/",
          "height": 36
        },
        "outputId": "0c89187a-edf9-44c2-fb71-a1faae2b94ed"
      },
      "source": [
        "test_generator = train_datagen.flow_from_directory(test_data_dir,\n",
        "\tclass_mode=None, batch_size=1,target_size= IMAGE_SIZE,shuffle = False)"
      ],
      "execution_count": 146,
      "outputs": [
        {
          "output_type": "stream",
          "text": [
            "Found 378 images belonging to 2 classes.\n"
          ],
          "name": "stdout"
        }
      ]
    },
    {
      "cell_type": "code",
      "metadata": {
        "id": "z9Ma9PZm2sgC",
        "colab_type": "code",
        "colab": {}
      },
      "source": [
        "test_generator.reset()\n",
        "predict = model.predict_generator(test_generator,steps= 378)"
      ],
      "execution_count": 0,
      "outputs": []
    },
    {
      "cell_type": "markdown",
      "metadata": {
        "id": "3NU5Iy80GL-u",
        "colab_type": "text"
      },
      "source": [
        "CATY STORES THE PROBABILITIES"
      ]
    },
    {
      "cell_type": "code",
      "metadata": {
        "id": "FKuh3QI54z5U",
        "colab_type": "code",
        "colab": {}
      },
      "source": [
        " caty = np.argmax(predict, axis=-1)"
      ],
      "execution_count": 0,
      "outputs": []
    },
    {
      "cell_type": "code",
      "metadata": {
        "id": "wMyjQi8O40Cs",
        "colab_type": "code",
        "colab": {}
      },
      "source": [
        "catne = 0\n",
        "for f in range(188):\n",
        "  if caty[f]==1:\n",
        "    catne = catne +1"
      ],
      "execution_count": 0,
      "outputs": []
    },
    {
      "cell_type": "markdown",
      "metadata": {
        "id": "BgAPXQXTGPhX",
        "colab_type": "text"
      },
      "source": [
        "CATNE ARE THE NUMBER OF CATS IDENTIFIED AS DOGS"
      ]
    },
    {
      "cell_type": "code",
      "metadata": {
        "id": "RXOdNXnc8C6x",
        "colab_type": "code",
        "colab": {
          "base_uri": "https://localhost:8080/",
          "height": 36
        },
        "outputId": "2e167ce1-2130-429c-f786-dad8765a9d17"
      },
      "source": [
        "catne\n",
        "#model can not identify 22 cats"
      ],
      "execution_count": 163,
      "outputs": [
        {
          "output_type": "execute_result",
          "data": {
            "text/plain": [
              "22"
            ]
          },
          "metadata": {
            "tags": []
          },
          "execution_count": 163
        }
      ]
    },
    {
      "cell_type": "markdown",
      "metadata": {
        "id": "Eyu4EhNjGWP-",
        "colab_type": "text"
      },
      "source": [
        "DOGNE ARE THE NUMBER OF DOGS IDENTIFIED AS CAT"
      ]
    },
    {
      "cell_type": "code",
      "metadata": {
        "id": "XnsvmyZD9GIy",
        "colab_type": "code",
        "colab": {}
      },
      "source": [
        "dogne = 0\n",
        "for t in range(188,378):\n",
        "  if caty[t] == 0:\n",
        "    dogne = dogne +1"
      ],
      "execution_count": 0,
      "outputs": []
    },
    {
      "cell_type": "code",
      "metadata": {
        "id": "QSWGl_eD9GC0",
        "colab_type": "code",
        "colab": {
          "base_uri": "https://localhost:8080/",
          "height": 36
        },
        "outputId": "fe0aa904-b360-4f4f-de9a-396865781eb1"
      },
      "source": [
        "dogne"
      ],
      "execution_count": 165,
      "outputs": [
        {
          "output_type": "execute_result",
          "data": {
            "text/plain": [
              "55"
            ]
          },
          "metadata": {
            "tags": []
          },
          "execution_count": 165
        }
      ]
    },
    {
      "cell_type": "markdown",
      "metadata": {
        "id": "GzMR110oGb8p",
        "colab_type": "text"
      },
      "source": [
        "ERROR CALCULLATION"
      ]
    },
    {
      "cell_type": "code",
      "metadata": {
        "id": "PA6r-Xa29iRd",
        "colab_type": "code",
        "colab": {}
      },
      "source": [
        "caterror = 100*(catne/188)\n",
        "dogerror = 100*(dogne/190)"
      ],
      "execution_count": 0,
      "outputs": []
    },
    {
      "cell_type": "code",
      "metadata": {
        "id": "DOwsWpnG9iKf",
        "colab_type": "code",
        "colab": {
          "base_uri": "https://localhost:8080/",
          "height": 36
        },
        "outputId": "1ca78c13-46ca-4e84-abcb-d8735571edd5"
      },
      "source": [
        "print('Accuracy on test set of cats %.3f' % (100 - caterror))\n"
      ],
      "execution_count": 172,
      "outputs": [
        {
          "output_type": "stream",
          "text": [
            "Accuracy on test set of cats 88.298\n"
          ],
          "name": "stdout"
        }
      ]
    },
    {
      "cell_type": "code",
      "metadata": {
        "id": "kl5jlpKHEiCg",
        "colab_type": "code",
        "colab": {
          "base_uri": "https://localhost:8080/",
          "height": 36
        },
        "outputId": "3a569864-43e9-4e7c-eda7-b8d58783743d"
      },
      "source": [
        "print('Accuracy on test set of dogs %.3f' % (100 - dogerror))\n"
      ],
      "execution_count": 173,
      "outputs": [
        {
          "output_type": "stream",
          "text": [
            "Accuracy on test set of dogs 71.053\n"
          ],
          "name": "stdout"
        }
      ]
    },
    {
      "cell_type": "markdown",
      "metadata": {
        "id": "QaECxGqvGn_b",
        "colab_type": "text"
      },
      "source": [
        "CAT ACC MORE BECAUSE OF MORE AMOUNT OF DATA AVAILABLE FOR CAT"
      ]
    },
    {
      "cell_type": "code",
      "metadata": {
        "id": "nvQI-VqZGwKM",
        "colab_type": "code",
        "colab": {}
      },
      "source": [
        ""
      ],
      "execution_count": 0,
      "outputs": []
    },
    {
      "cell_type": "markdown",
      "metadata": {
        "id": "ednFNdOmGfKP",
        "colab_type": "text"
      },
      "source": [
        "**CAT 88.298 DOG 71.053**\n"
      ]
    },
    {
      "cell_type": "markdown",
      "metadata": {
        "id": "UgJsG9lHGwtW",
        "colab_type": "text"
      },
      "source": [
        "The Architecture and parameter used in this network are capable of producing accuracy of 84.56% on Validation Data which is pretty good. It is possible to Achieve more accuracy on this dataset using deeper network and fine tuning of network parameters for training."
      ]
    }
  ]
}